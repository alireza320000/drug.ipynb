import numpy as np
import pandas as pd 
import matplotlib.pyplot as plt
%matplotlib inline
from sklearn.model_selection import train_test_split
from sklearn.tree import DecisionTreeClassifier
from sklearn.metrics import accuracy_score
import seaborn as sns; sns.set()
import warnings
warnings.filterwarnings('ignore')

#=============================================================================
df=pd.read_excel('D:/dataset/dataroadmap_missing_value2.xlsx',header=0)
print(df)
#=============================================================================
X =df.values[:,:1]
y = df.values[:,1]
# print(X)
# print(y)
#===========================================================
df.describe()
#=========================
df.head()
#==========================
df.ndim
#===========================
df.shape
#=========================
df.tail()
#==============
df.fillna
#=========================
df.isnull().sum()
#===============================
df.info()
#=============================
df.hist(figsize=(20, 20),layout=(5, 3));
#=================================================
df.corr()
#=====================================
corrmat = df.corr()
# plot heat map
top_corr_features=corrmat.index
plt.figure(figsize=(20, 20))
g = sns.heatmap(df[top_corr_features].corr(),annot=True,cmap="RdYlGn")
#=========================================================================
sns.heatmap(df.corr(),square=True,cmap="YlGnBu");
#=======================================================
df.duplicated()
#=========================
df.drop_duplicates()
#===========================
df.dropna()
#===============================
df = pd.get_dummies(df,drop_first=True)
df.head()
#================================================
df.drop(df.columns[np.isnan(X_train).any()], axis=1)
#=========================================================
X_train,X_test, y_train, y_test = train_test_split(X, y,test_size=0.3,random_state=42)
#=========================================================================================
from sklearn.preprocessing import StandardScaler
StandardScaler = StandardScaler()
X_train =StandardScaler.fit_transform(X_train)
X_test = StandardScaler.transform(X_test)
#========================================================================
print(X.shape,X_train.shape,X_test.shape)
#===============================================
sns.pairplot(df);
#===============================================
model= DecisionTreeClassifier()
#=========================================
model= DecisionTreeClassifier(
    criterion="entropy",
    splitter='best',
    max_depth=2,
    min_samples_split=0.2,
    min_samples_leaf=1,
    min_weight_fraction_leaf=0.2,
    max_features="log2",
    random_state=42,
    max_leaf_nodes=3,
    min_impurity_decrease=0.2,
    min_impurity_split=0.2,
    class_weight="balanced",
    ccp_alpha=0.15,)
#=======================================================
model.fit(X_train, y_train)
model_predict= model.predict(X_test)
model.score(X_train,y_train)
